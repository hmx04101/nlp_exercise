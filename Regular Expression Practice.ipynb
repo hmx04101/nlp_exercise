{
 "cells": [
  {
   "cell_type": "code",
   "execution_count": 1,
   "id": "c5964fad-8344-4918-a71b-3a7cf0532617",
   "metadata": {},
   "outputs": [],
   "source": [
    "import re"
   ]
  },
  {
   "cell_type": "code",
   "execution_count": 2,
   "id": "5e564f7d-5c15-4dc0-8b1f-56b2974ebe47",
   "metadata": {},
   "outputs": [],
   "source": [
    "text_to_search = \"\"\"\n",
    "abcdefghgjklmnopqrstuvwxyz\n",
    "ABCDEFGHGJKLMNOPQRSTUVWXYZ\n",
    "1234567890\n",
    "123\n",
    "\n",
    "Ha HaHa\n",
    "MetaCharacters (Need to be escaped):\n",
    ". ^ & * + ? { } [ ] \\ | ( )\n",
    "\n",
    "coreyms.com\n",
    "\n",
    "321-555-4321\n",
    "123.555.1234\n",
    "800-555-1234\n",
    "900-555-1351\n",
    "\n",
    "Mr. Schafer\n",
    "Mr. scatter\n",
    "Mr Smith\n",
    "Ms Davis\n",
    "Mrs. Robinson\n",
    "Mr. T\n",
    "\n",
    "mat\n",
    "cat\n",
    "pat\n",
    "\n",
    "\"\"\""
   ]
  },
  {
   "cell_type": "code",
   "execution_count": 3,
   "id": "c10ffbf7-ccd6-43ba-b29a-03da2ef8a5d6",
   "metadata": {},
   "outputs": [],
   "source": [
    "sentence = 'Start a sentence and then bring it to an end  123'"
   ]
  },
  {
   "cell_type": "code",
   "execution_count": 4,
   "id": "cc274d30-ec66-49f5-8560-e03cc73b5101",
   "metadata": {},
   "outputs": [
    {
     "data": {
      "text/plain": [
       "re.compile(r'\\d', re.UNICODE)"
      ]
     },
     "execution_count": 4,
     "metadata": {},
     "output_type": "execute_result"
    }
   ],
   "source": [
    "pattern = re.compile(r'\\d')\n",
    "pattern"
   ]
  },
  {
   "cell_type": "code",
   "execution_count": 5,
   "id": "c1695210-64bf-4216-a394-493c856ae06b",
   "metadata": {},
   "outputs": [
    {
     "name": "stdout",
     "output_type": "stream",
     "text": [
      "<re.Match object; span=(46, 47), match='1'>\n",
      "<re.Match object; span=(47, 48), match='2'>\n",
      "<re.Match object; span=(48, 49), match='3'>\n"
     ]
    }
   ],
   "source": [
    "sentence = 'Start a sentence and then bring it to an end  123'\n",
    "matches = pattern.finditer(sentence)\n",
    "for match in matches:\n",
    "    print(match)"
   ]
  },
  {
   "cell_type": "code",
   "execution_count": 6,
   "id": "6cbd0474-e3aa-47fa-96d9-f517f9816792",
   "metadata": {},
   "outputs": [
    {
     "name": "stdout",
     "output_type": "stream",
     "text": [
      "<re.Match object; span=(5, 6), match=' '>\n",
      "<re.Match object; span=(7, 8), match=' '>\n",
      "<re.Match object; span=(16, 17), match=' '>\n",
      "<re.Match object; span=(20, 21), match=' '>\n",
      "<re.Match object; span=(25, 26), match=' '>\n",
      "<re.Match object; span=(31, 32), match=' '>\n",
      "<re.Match object; span=(34, 35), match=' '>\n",
      "<re.Match object; span=(37, 38), match=' '>\n",
      "<re.Match object; span=(40, 41), match=' '>\n",
      "<re.Match object; span=(44, 45), match=' '>\n",
      "<re.Match object; span=(45, 46), match=' '>\n"
     ]
    }
   ],
   "source": [
    "sentence = 'Start a sentence and then bring it to an end  123'\n",
    "pattern = re.compile(r'\\W')\n",
    "matches = pattern.finditer(sentence)\n",
    "for match in matches:\n",
    "    print(match)"
   ]
  },
  {
   "cell_type": "code",
   "execution_count": 7,
   "id": "09acba67-9b66-49f2-be60-25eb665bd15f",
   "metadata": {},
   "outputs": [
    {
     "name": "stdout",
     "output_type": "stream",
     "text": [
      "<re.Match object; span=(158, 169), match='321-555-432'>\n",
      "<re.Match object; span=(184, 195), match='800-555-123'>\n",
      "<re.Match object; span=(197, 208), match='900-555-135'>\n"
     ]
    }
   ],
   "source": [
    "pattern = re.compile(r'\\d\\d\\d-\\d\\d\\d-\\d\\d\\d')\n",
    "matches = pattern.finditer(text_to_search)\n",
    "for match in matches:\n",
    "    print(match)"
   ]
  },
  {
   "cell_type": "code",
   "execution_count": 8,
   "id": "3fa1626b-0973-41e9-b462-1c4626d643dd",
   "metadata": {},
   "outputs": [
    {
     "name": "stdout",
     "output_type": "stream",
     "text": [
      "<re.Match object; span=(158, 169), match='321-555-432'>\n",
      "<re.Match object; span=(171, 182), match='123.555.123'>\n",
      "<re.Match object; span=(184, 195), match='800-555-123'>\n",
      "<re.Match object; span=(197, 208), match='900-555-135'>\n"
     ]
    }
   ],
   "source": [
    "pattern = re.compile(r'\\d\\d\\d.\\d\\d\\d.\\d\\d\\d')\n",
    "matches = pattern.finditer(text_to_search)\n",
    "for match in matches:\n",
    "    print(match)"
   ]
  },
  {
   "cell_type": "code",
   "execution_count": 9,
   "id": "5bcb719e-51f7-4378-858c-c2b2940d0c73",
   "metadata": {},
   "outputs": [
    {
     "name": "stdout",
     "output_type": "stream",
     "text": [
      "<re.Match object; span=(184, 195), match='800-555-123'>\n",
      "<re.Match object; span=(197, 208), match='900-555-135'>\n"
     ]
    }
   ],
   "source": [
    "pattern = re.compile(r'[89]00[-.]\\d\\d\\d[-.]\\d\\d\\d')\n",
    "matches = pattern.finditer(text_to_search)\n",
    "for match in matches:\n",
    "    print(match)"
   ]
  },
  {
   "cell_type": "code",
   "execution_count": 10,
   "id": "618ee4f3-4681-4f1b-bc79-2ecbc024aff2",
   "metadata": {},
   "outputs": [
    {
     "name": "stdout",
     "output_type": "stream",
     "text": [
      "<re.Match object; span=(228, 231), match='cat'>\n",
      "<re.Match object; span=(274, 277), match='mat'>\n",
      "<re.Match object; span=(278, 281), match='cat'>\n",
      "<re.Match object; span=(282, 285), match='pat'>\n"
     ]
    }
   ],
   "source": [
    "pattern = re.compile(r'[^\\b]at')\n",
    "matches = pattern.finditer(text_to_search)\n",
    "for match in matches:\n",
    "    print(match)"
   ]
  },
  {
   "cell_type": "code",
   "execution_count": 11,
   "id": "f8a36aef-a60c-4313-918c-a5f8ffd1a7f1",
   "metadata": {},
   "outputs": [
    {
     "name": "stdout",
     "output_type": "stream",
     "text": [
      "<re.Match object; span=(158, 169), match='321-555-432'>\n",
      "<re.Match object; span=(171, 182), match='123.555.123'>\n",
      "<re.Match object; span=(184, 195), match='800-555-123'>\n",
      "<re.Match object; span=(197, 208), match='900-555-135'>\n"
     ]
    }
   ],
   "source": [
    "pattern = re.compile(r'\\d{3}.\\d{3}.\\d{3}')\n",
    "matches = pattern.finditer(text_to_search)\n",
    "for match in matches:\n",
    "    print(match)"
   ]
  },
  {
   "cell_type": "code",
   "execution_count": 12,
   "id": "feaf8138-d8f1-4890-a072-8267b7f15264",
   "metadata": {},
   "outputs": [
    {
     "name": "stdout",
     "output_type": "stream",
     "text": [
      "<re.Match object; span=(55, 63), match='12345678'>\n",
      "<re.Match object; span=(158, 166), match='321-555-'>\n",
      "<re.Match object; span=(171, 179), match='123.555.'>\n",
      "<re.Match object; span=(184, 192), match='800-555-'>\n",
      "<re.Match object; span=(197, 205), match='900-555-'>\n"
     ]
    }
   ],
   "source": [
    "pattern = re.compile(r'\\d{3}.\\d{3}.')\n",
    "matches = pattern.finditer(text_to_search)\n",
    "for match in matches:\n",
    "    print(match)"
   ]
  },
  {
   "cell_type": "code",
   "execution_count": 13,
   "id": "10c2415d-5fa3-4d5a-8863-8c5c5e52ca7e",
   "metadata": {},
   "outputs": [
    {
     "name": "stdout",
     "output_type": "stream",
     "text": [
      "<re.Match object; span=(211, 214), match='Mr.'>\n",
      "<re.Match object; span=(223, 226), match='Mr.'>\n",
      "<re.Match object; span=(235, 237), match='Mr'>\n",
      "<re.Match object; span=(253, 255), match='Mr'>\n",
      "<re.Match object; span=(267, 270), match='Mr.'>\n"
     ]
    }
   ],
   "source": [
    "pattern = re.compile(r'Mr\\.?')\n",
    "matches = pattern.finditer(text_to_search)\n",
    "for match in matches:\n",
    "    print(match)"
   ]
  },
  {
   "cell_type": "code",
   "execution_count": 14,
   "id": "b4d7ce1e-92ea-4818-b004-d343b13b87aa",
   "metadata": {},
   "outputs": [
    {
     "name": "stdout",
     "output_type": "stream",
     "text": [
      "<re.Match object; span=(211, 216), match='Mr. S'>\n",
      "<re.Match object; span=(223, 228), match='Mr. s'>\n",
      "<re.Match object; span=(235, 239), match='Mr S'>\n",
      "<re.Match object; span=(267, 272), match='Mr. T'>\n"
     ]
    }
   ],
   "source": [
    "pattern = re.compile(r'Mr\\.?\\s[a-zA-Z]')\n",
    "matches = pattern.finditer(text_to_search)\n",
    "for match in matches:\n",
    "    print(match)"
   ]
  },
  {
   "cell_type": "code",
   "execution_count": 15,
   "id": "bf9d52cc-0090-492d-805a-657434df3a1f",
   "metadata": {},
   "outputs": [
    {
     "name": "stdout",
     "output_type": "stream",
     "text": [
      "<re.Match object; span=(267, 273), match='Mr. T\\n'>\n"
     ]
    }
   ],
   "source": [
    "pattern = re.compile(r'Mr\\.?\\s[a-zA-Z]\\W')\n",
    "matches = pattern.finditer(text_to_search)\n",
    "for match in matches:\n",
    "    print(match)"
   ]
  },
  {
   "cell_type": "code",
   "execution_count": 16,
   "id": "2a1394a5-7361-4b58-bcb9-438ba7facf17",
   "metadata": {},
   "outputs": [
    {
     "name": "stdout",
     "output_type": "stream",
     "text": [
      "<re.Match object; span=(211, 217), match='Mr. Sc'>\n",
      "<re.Match object; span=(223, 229), match='Mr. sc'>\n",
      "<re.Match object; span=(235, 240), match='Mr Sm'>\n"
     ]
    }
   ],
   "source": [
    "pattern = re.compile(r'Mr\\.?\\s[a-zA-Z]\\w')\n",
    "matches = pattern.finditer(text_to_search)\n",
    "for match in matches:\n",
    "    print(match)"
   ]
  },
  {
   "cell_type": "code",
   "execution_count": 17,
   "id": "af9a8958-6252-4bc0-8f22-3f890a0b76b2",
   "metadata": {},
   "outputs": [
    {
     "name": "stdout",
     "output_type": "stream",
     "text": [
      "<re.Match object; span=(211, 222), match='Mr. Schafer'>\n",
      "<re.Match object; span=(223, 234), match='Mr. scatter'>\n",
      "<re.Match object; span=(235, 243), match='Mr Smith'>\n"
     ]
    }
   ],
   "source": [
    "pattern = re.compile(r'Mr\\.?\\s[a-zA-Z]\\w+')\n",
    "matches = pattern.finditer(text_to_search)\n",
    "for match in matches:\n",
    "    print(match)"
   ]
  },
  {
   "cell_type": "code",
   "execution_count": 18,
   "id": "8e01dd47-97d2-4b75-9165-8d4a018a4e60",
   "metadata": {},
   "outputs": [
    {
     "name": "stdout",
     "output_type": "stream",
     "text": [
      "<re.Match object; span=(211, 222), match='Mr. Schafer'>\n",
      "<re.Match object; span=(223, 234), match='Mr. scatter'>\n",
      "<re.Match object; span=(235, 243), match='Mr Smith'>\n",
      "<re.Match object; span=(267, 272), match='Mr. T'>\n"
     ]
    }
   ],
   "source": [
    "pattern = re.compile(r'Mr\\.?\\s[a-zA-Z]\\w*')\n",
    "matches = pattern.finditer(text_to_search)\n",
    "for match in matches:\n",
    "    print(match)"
   ]
  },
  {
   "cell_type": "code",
   "execution_count": 19,
   "id": "114e7e0d-c97f-4587-8d45-9b310833528a",
   "metadata": {},
   "outputs": [
    {
     "name": "stdout",
     "output_type": "stream",
     "text": [
      "<re.Match object; span=(211, 222), match='Mr. Schafer'>\n",
      "<re.Match object; span=(223, 234), match='Mr. scatter'>\n",
      "<re.Match object; span=(235, 243), match='Mr Smith'>\n",
      "<re.Match object; span=(244, 252), match='Ms Davis'>\n",
      "<re.Match object; span=(253, 266), match='Mrs. Robinson'>\n",
      "<re.Match object; span=(267, 272), match='Mr. T'>\n"
     ]
    }
   ],
   "source": [
    "pattern = re.compile(r'M(r|s|rs)\\.?\\s[a-zA-Z]\\w*')\n",
    "matches = pattern.finditer(text_to_search)\n",
    "for match in matches:\n",
    "    print(match)"
   ]
  },
  {
   "cell_type": "code",
   "execution_count": 50,
   "id": "cb5e9bde-3d60-48ea-8ea9-8ed72798047d",
   "metadata": {},
   "outputs": [
    {
     "name": "stdout",
     "output_type": "stream",
     "text": [
      "<re.Match object; span=(1, 23), match='https://www.google.com'>\n",
      "<re.Match object; span=(24, 42), match='http://coreyms.com'>\n",
      "<re.Match object; span=(43, 62), match='https://youtube.com'>\n",
      "<re.Match object; span=(63, 83), match='https://www.nasa.gov'>\n"
     ]
    }
   ],
   "source": [
    "urls = \"\"\"\n",
    "https://www.google.com\n",
    "http://coreyms.com\n",
    "https://youtube.com\n",
    "https://www.nasa.gov\n",
    "\"\"\"\n",
    "\n",
    "pattern = re.compile(r'https?://(www\\.)?\\w+\\.\\w+')\n",
    "matches = pattern.finditer(urls)\n",
    "for match in matches:\n",
    "    print(match)"
   ]
  },
  {
   "cell_type": "code",
   "execution_count": 52,
   "id": "2dd730dd-e197-4eb1-ac5d-869b132d00ae",
   "metadata": {},
   "outputs": [
    {
     "name": "stdout",
     "output_type": "stream",
     "text": [
      "match <re.Match object; span=(1, 23), match='https://www.google.com'>\n",
      "group 0 https://www.google.com, group 1 www., group 2 google, group 3 .com, match <re.Match object; span=(24, 42), match='http://coreyms.com'>\n",
      "group 0 http://coreyms.com, group 1 None, group 2 coreyms, group 3 .com, match <re.Match object; span=(43, 62), match='https://youtube.com'>\n",
      "group 0 https://youtube.com, group 1 None, group 2 youtube, group 3 .com, match <re.Match object; span=(63, 83), match='https://www.nasa.gov'>\n",
      "group 0 https://www.nasa.gov, group 1 www., group 2 nasa, group 3 .gov, "
     ]
    }
   ],
   "source": [
    "urls = \"\"\"\n",
    "https://www.google.com\n",
    "http://coreyms.com\n",
    "https://youtube.com\n",
    "https://www.nasa.gov\n",
    "\"\"\"\n",
    "\n",
    "pattern = re.compile(r'https?://(www\\.)?(\\w+)(\\.\\w+)')\n",
    "matches = pattern.finditer(urls)\n",
    "for match in matches:\n",
    "    print(\"match\",match)\n",
    "    print(\"group 0\",match.group(0), end=', ')\n",
    "    print(\"group 1\",match.group(1), end=', ')\n",
    "    print(\"group 2\",match.group(2), end=', ')\n",
    "    print(\"group 3\",match.group(3), end=', ')"
   ]
  },
  {
   "cell_type": "code",
   "execution_count": null,
   "id": "42a91c95-d4f4-4920-9bab-5b932762e3cd",
   "metadata": {},
   "outputs": [],
   "source": []
  },
  {
   "cell_type": "code",
   "execution_count": 24,
   "id": "5fb239fa-5d48-4ae2-8b76-6216a7498147",
   "metadata": {},
   "outputs": [
    {
     "name": "stdout",
     "output_type": "stream",
     "text": [
      "<re.Match object; span=(1, 23), match='CoreMSchafer@gmail.com'>\n"
     ]
    }
   ],
   "source": [
    "emails = \"\"\"\n",
    "CoreMSchafer@gmail.com\n",
    "corey.schafer@university.edu\n",
    "corey-321-schafer@my-work.net\n",
    "\"\"\"\n",
    "\n",
    "pattern = re.compile(r'[a-zA-Z]+@[a-zA-Z]+\\.com')\n",
    "\n",
    "matches = pattern.finditer(emails)\n",
    "\n",
    "for match in matches:\n",
    "    print(match)"
   ]
  },
  {
   "cell_type": "code",
   "execution_count": 36,
   "id": "1bf17bbb-9e16-48f3-bcb3-c5289cb54ee7",
   "metadata": {},
   "outputs": [
    {
     "name": "stdout",
     "output_type": "stream",
     "text": [
      "<re.Match object; span=(1, 23), match='CoreMSchafer@gmail.com'>\n",
      "<re.Match object; span=(24, 52), match='corey.schafer@university.edu'>\n"
     ]
    }
   ],
   "source": [
    "emails = \"\"\"\n",
    "CoreMSchafer@gmail.com\n",
    "corey.schafer@university.edu\n",
    "corey-321-schafer@my-work.net\n",
    "\"\"\"\n",
    "\n",
    "pattern = re.compile(r'[a-zA-Z.]+@[a-zA-Z]+\\.(com|edu)')\n",
    "\n",
    "matches = pattern.finditer(emails)\n",
    "\n",
    "for match in matches:\n",
    "    print(match)"
   ]
  },
  {
   "cell_type": "code",
   "execution_count": 38,
   "id": "e833b1dc-ca44-4660-b19a-4ab0a4a1d028",
   "metadata": {},
   "outputs": [
    {
     "name": "stdout",
     "output_type": "stream",
     "text": [
      "<re.Match object; span=(1, 23), match='CoreMSchafer@gmail.com'>\n",
      "<re.Match object; span=(24, 52), match='corey.schafer@university.edu'>\n",
      "<re.Match object; span=(53, 82), match='corey-321-schafer@my-work.net'>\n"
     ]
    }
   ],
   "source": [
    "emails = \"\"\"\n",
    "CoreMSchafer@gmail.com\n",
    "corey.schafer@university.edu\n",
    "corey-321-schafer@my-work.net\n",
    "\"\"\"\n",
    "\n",
    "pattern = re.compile(r'[a-zA-Z0-9.-]+@[a-zA-Z-]+\\.(com|edu|net)')\n",
    "\n",
    "matches = pattern.finditer(emails)\n",
    "\n",
    "for match in matches:\n",
    "    print(match)"
   ]
  },
  {
   "cell_type": "code",
   "execution_count": 40,
   "id": "8b7be7de-a1f3-45f7-a44b-8a1f384da114",
   "metadata": {},
   "outputs": [
    {
     "name": "stdout",
     "output_type": "stream",
     "text": [
      "<re.Match object; span=(1, 23), match='CoreMSchafer@gmail.com'>\n",
      "<re.Match object; span=(24, 52), match='corey.schafer@university.edu'>\n",
      "<re.Match object; span=(53, 82), match='corey-321-schafer@my-work.net'>\n"
     ]
    }
   ],
   "source": [
    "emails = \"\"\"\n",
    "CoreMSchafer@gmail.com\n",
    "corey.schafer@university.edu\n",
    "corey-321-schafer@my-work.net\n",
    "\"\"\"\n",
    "\n",
    "pattern = re.compile(r'[a-zA-Z0-9_.+-]+@[a-zA-Z0-9-]+\\.[a-zA-Z0-9-.]+')\n",
    "\n",
    "matches = pattern.finditer(emails)\n",
    "\n",
    "for match in matches:\n",
    "    print(match)"
   ]
  },
  {
   "cell_type": "code",
   "execution_count": null,
   "id": "a8ed566c-2b38-45fc-b58c-6b56fcebed66",
   "metadata": {},
   "outputs": [],
   "source": []
  },
  {
   "cell_type": "markdown",
   "id": "55e6c864-79fe-4792-b0e8-4587bfd709b7",
   "metadata": {},
   "source": [
    ".   Any character Except New Line<br>\n",
    "\\d   Digit (0-9),  = [0-9]<br>\n",
    "\\D   Not a Digit (0-9), = [^0-9]<br>\n",
    "\\w   Word character + digit, = [a-zA-Z0-9]<br>\n",
    "\\W   Not Word character + digit, = [^a-zA-Z0-9]<br>\n",
    "\\s   Whitespace (space, tab, newline)<br>\n",
    "\\S   Not Whitespace<br>\n",
    "\n",
    "\\b   Word Boundary<br>"
   ]
  },
  {
   "cell_type": "code",
   "execution_count": null,
   "id": "d371bf63-6236-4ff9-a726-670f3ae65295",
   "metadata": {},
   "outputs": [],
   "source": [
    "https://www.youtube.com/watch?v=K8L6KVGG-7o"
   ]
  }
 ],
 "metadata": {
  "kernelspec": {
   "display_name": "Python 3",
   "language": "python",
   "name": "python3"
  },
  "language_info": {
   "codemirror_mode": {
    "name": "ipython",
    "version": 3
   },
   "file_extension": ".py",
   "mimetype": "text/x-python",
   "name": "python",
   "nbconvert_exporter": "python",
   "pygments_lexer": "ipython3",
   "version": "3.7.10"
  }
 },
 "nbformat": 4,
 "nbformat_minor": 5
}
